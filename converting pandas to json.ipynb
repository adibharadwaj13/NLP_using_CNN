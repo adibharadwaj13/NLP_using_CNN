{
 "cells": [
  {
   "cell_type": "code",
   "execution_count": 9,
   "metadata": {},
   "outputs": [
    {
     "name": "stdout",
     "output_type": "stream",
     "text": [
      "{'HelpfulnessDenominator': 'HelpfulnessDenominator', 'Summary': 'Summary', 'Score': 'Score', 'HelpfulnessNumerator': 'HelpfulnessNumerator', 'UserId': 'UserId', 'ProfileName': 'ProfileName', 'Text': 'Text', 'Time': 'Time', 'Id': 'Id', 'ProductId': 'ProductId'}\n",
      "{'HelpfulnessDenominator': '1', 'Summary': 'Good Quality Dog Food', 'Score': '5', 'HelpfulnessNumerator': '1', 'UserId': 'A3SGXH7AUHU8GW', 'ProfileName': 'delmartian', 'Text': 'I have bought several of the Vitality canned dog food products and have found them all to be of good quality. The product looks more like a stew than a processed meat and it smells better. My Labrador is finicky and she appreciates this product better than  most.', 'Time': '1303862400', 'Id': '1', 'ProductId': 'B001E4KFG0'}\n",
      "writing\n",
      "{'HelpfulnessDenominator': '0', 'Summary': 'Not as Advertised', 'Score': '1', 'HelpfulnessNumerator': '0', 'UserId': 'A1D87F6ZCVE5NK', 'ProfileName': 'dll pa', 'Text': 'Product arrived labeled as Jumbo Salted Peanuts...the peanuts were actually small sized unsalted. Not sure if this was an error or if the vendor intended to represent the product as \"Jumbo\".', 'Time': '1346976000', 'Id': '2', 'ProductId': 'B00813GRG4'}\n",
      "writing\n",
      "{'HelpfulnessDenominator': '1', 'Summary': '\"Delight\" says it all', 'Score': '4', 'HelpfulnessNumerator': '1', 'UserId': 'ABXLMWJIXXAIN', 'ProfileName': 'Natalia Corres \"Natalia Corres\"', 'Text': 'This is a confection that has been around a few centuries.  It is a light, pillowy citrus gelatin with nuts - in this case Filberts. And it is cut into tiny squares and then liberally coated with powdered sugar.  And it is a tiny mouthful of heaven.  Not too chewy, and very flavorful.  I highly recommend this yummy treat.  If you are familiar with the story of C.S. Lewis\\' \"The Lion, The Witch, and The Wardrobe\" - this is the treat that seduces Edmund into selling out his Brother and Sisters to the Witch.', 'Time': '1219017600', 'Id': '3', 'ProductId': 'B000LQOCH0'}\n",
      "writing\n",
      "{'HelpfulnessDenominator': '3', 'Summary': 'Cough Medicine', 'Score': '2', 'HelpfulnessNumerator': '3', 'UserId': 'A395BORC6FGVXV', 'ProfileName': 'Karl', 'Text': 'If you are looking for the secret ingredient in Robitussin I believe I have found it.  I got this in addition to the Root Beer Extract I ordered (which was good) and made some cherry soda.  The flavor is very medicinal.', 'Time': '1307923200', 'Id': '4', 'ProductId': 'B000UA0QIQ'}\n",
      "writing\n",
      "{'HelpfulnessDenominator': '0', 'Summary': 'Great taffy', 'Score': '5', 'HelpfulnessNumerator': '0', 'UserId': 'A1UQRSCLF8GW1T', 'ProfileName': 'Michael D. Bigham \"M. Wassir\"', 'Text': 'Great taffy at a great price.  There was a wide assortment of yummy taffy.  Delivery was very quick.  If your a taffy lover, this is a deal.', 'Time': '1350777600', 'Id': '5', 'ProductId': 'B006K2ZZ7K'}\n",
      "writing\n",
      "{'HelpfulnessDenominator': '0', 'Summary': 'Nice Taffy', 'Score': '4', 'HelpfulnessNumerator': '0', 'UserId': 'ADT0SRK1MGOEU', 'ProfileName': 'Twoapennything', 'Text': 'I got a wild hair for taffy and ordered this five pound bag. The taffy was all very enjoyable with many flavors: watermelon, root beer, melon, peppermint, grape, etc. My only complaint is there was a bit too much red/black licorice-flavored pieces (just not my particular favorites). Between me, my kids, and my husband, this lasted only two weeks! I would recommend this brand of taffy -- it was a delightful treat.', 'Time': '1342051200', 'Id': '6', 'ProductId': 'B006K2ZZ7K'}\n",
      "writing\n",
      "{'HelpfulnessDenominator': '0', 'Summary': 'Great!  Just as good as the expensive brands!', 'Score': '5', 'HelpfulnessNumerator': '0', 'UserId': 'A1SP2KVKFXXRU1', 'ProfileName': 'David C. Sullivan', 'Text': \"This saltwater taffy had great flavors and was very soft and chewy.  Each candy was individually wrapped well.  None of the candies were stuck together, which did happen in the expensive version, Fralinger's.  Would highly recommend this candy!  I served it at a beach-themed party and everyone loved it!\", 'Time': '1340150400', 'Id': '7', 'ProductId': 'B006K2ZZ7K'}\n",
      "writing\n",
      "{'HelpfulnessDenominator': '0', 'Summary': 'Wonderful, tasty taffy', 'Score': '5', 'HelpfulnessNumerator': '0', 'UserId': 'A3JRGQVEQN31IQ', 'ProfileName': 'Pamela G. Williams', 'Text': 'This taffy is so good.  It is very soft and chewy.  The flavors are amazing.  I would definitely recommend you buying it.  Very satisfying!!', 'Time': '1336003200', 'Id': '8', 'ProductId': 'B006K2ZZ7K'}\n",
      "writing\n",
      "{'HelpfulnessDenominator': '1', 'Summary': 'Yay Barley', 'Score': '5', 'HelpfulnessNumerator': '1', 'UserId': 'A1MZYO9TZK0BBI', 'ProfileName': 'R. James', 'Text': \"Right now I'm mostly just sprouting this so my cats can eat the grass. They love it. I rotate it around with Wheatgrass and Rye too\", 'Time': '1322006400', 'Id': '9', 'ProductId': 'B000E7L2R4'}\n",
      "writing\n",
      "{'HelpfulnessDenominator': '0', 'Summary': 'Healthy Dog Food', 'Score': '5', 'HelpfulnessNumerator': '0', 'UserId': 'A21BT40VZCCYT4', 'ProfileName': 'Carol A. Reed', 'Text': 'This is a very healthy dog food. Good for their digestion. Also good for small puppies. My dog eats her required amount at every feeding.', 'Time': '1351209600', 'Id': '10', 'ProductId': 'B00171APVA'}\n"
     ]
    }
   ],
   "source": [
    "import csv\n",
    "import json\n",
    "\n",
    "csvfile = open('Reviews.csv', 'r')\n",
    "jsonfile = open('Reviews.json', 'w')\n",
    "\n",
    "fieldnames = (\"Id\", \"ProductId\", \"UserId\", \"ProfileName\", \"HelpfulnessNumerator\", \"HelpfulnessDenominator\", \"Score\", \"Time\",\"Summary\",\"Text\")    \n",
    "\n",
    "reader = csv.DictReader( csvfile, fieldnames)\n",
    "i = 0\n",
    "\n",
    "for row in reader:\n",
    "    print(row)\n",
    "    if i==0:\n",
    "        i+=1\n",
    "        continue\n",
    "    elif i==10:\n",
    "        break\n",
    "    else:\n",
    "        print(\"writing\")\n",
    "        i+=1\n",
    "        json.dump(row, jsonfile)\n",
    "        jsonfile.write('\\n')\n",
    "        \n",
    "        \n",
    "        "
   ]
  },
  {
   "cell_type": "code",
   "execution_count": 10,
   "metadata": {},
   "outputs": [],
   "source": [
    "import json\n",
    "\n",
    "data = []\n",
    "with open('Reviews.json') as f:\n",
    "    for line in f:\n",
    "        data.append(json.loads(line))"
   ]
  },
  {
   "cell_type": "code",
   "execution_count": 11,
   "metadata": {},
   "outputs": [
    {
     "name": "stdout",
     "output_type": "stream",
     "text": [
      "[{'HelpfulnessDenominator': '1', 'Summary': 'Good Quality Dog Food', 'Score': '5', 'HelpfulnessNumerator': '1', 'UserId': 'A3SGXH7AUHU8GW', 'ProfileName': 'delmartian', 'Text': 'I have bought several of the Vitality canned dog food products and have found them all to be of good quality. The product looks more like a stew than a processed meat and it smells better. My Labrador is finicky and she appreciates this product better than  most.', 'Id': '1', 'ProductId': 'B001E4KFG0', 'Time': '1303862400'}, {'HelpfulnessDenominator': '0', 'Summary': 'Not as Advertised', 'Score': '1', 'HelpfulnessNumerator': '0', 'UserId': 'A1D87F6ZCVE5NK', 'ProfileName': 'dll pa', 'Text': 'Product arrived labeled as Jumbo Salted Peanuts...the peanuts were actually small sized unsalted. Not sure if this was an error or if the vendor intended to represent the product as \"Jumbo\".', 'Id': '2', 'ProductId': 'B00813GRG4', 'Time': '1346976000'}, {'HelpfulnessDenominator': '1', 'Summary': '\"Delight\" says it all', 'Score': '4', 'HelpfulnessNumerator': '1', 'UserId': 'ABXLMWJIXXAIN', 'ProfileName': 'Natalia Corres \"Natalia Corres\"', 'Text': 'This is a confection that has been around a few centuries.  It is a light, pillowy citrus gelatin with nuts - in this case Filberts. And it is cut into tiny squares and then liberally coated with powdered sugar.  And it is a tiny mouthful of heaven.  Not too chewy, and very flavorful.  I highly recommend this yummy treat.  If you are familiar with the story of C.S. Lewis\\' \"The Lion, The Witch, and The Wardrobe\" - this is the treat that seduces Edmund into selling out his Brother and Sisters to the Witch.', 'Id': '3', 'ProductId': 'B000LQOCH0', 'Time': '1219017600'}, {'HelpfulnessDenominator': '3', 'Summary': 'Cough Medicine', 'Score': '2', 'HelpfulnessNumerator': '3', 'UserId': 'A395BORC6FGVXV', 'ProfileName': 'Karl', 'Text': 'If you are looking for the secret ingredient in Robitussin I believe I have found it.  I got this in addition to the Root Beer Extract I ordered (which was good) and made some cherry soda.  The flavor is very medicinal.', 'Id': '4', 'ProductId': 'B000UA0QIQ', 'Time': '1307923200'}, {'HelpfulnessDenominator': '0', 'Summary': 'Great taffy', 'Score': '5', 'HelpfulnessNumerator': '0', 'UserId': 'A1UQRSCLF8GW1T', 'ProfileName': 'Michael D. Bigham \"M. Wassir\"', 'Text': 'Great taffy at a great price.  There was a wide assortment of yummy taffy.  Delivery was very quick.  If your a taffy lover, this is a deal.', 'Id': '5', 'ProductId': 'B006K2ZZ7K', 'Time': '1350777600'}, {'HelpfulnessDenominator': '0', 'Summary': 'Nice Taffy', 'Score': '4', 'HelpfulnessNumerator': '0', 'UserId': 'ADT0SRK1MGOEU', 'ProfileName': 'Twoapennything', 'Text': 'I got a wild hair for taffy and ordered this five pound bag. The taffy was all very enjoyable with many flavors: watermelon, root beer, melon, peppermint, grape, etc. My only complaint is there was a bit too much red/black licorice-flavored pieces (just not my particular favorites). Between me, my kids, and my husband, this lasted only two weeks! I would recommend this brand of taffy -- it was a delightful treat.', 'Id': '6', 'ProductId': 'B006K2ZZ7K', 'Time': '1342051200'}, {'HelpfulnessDenominator': '0', 'Summary': 'Great!  Just as good as the expensive brands!', 'Score': '5', 'HelpfulnessNumerator': '0', 'UserId': 'A1SP2KVKFXXRU1', 'ProfileName': 'David C. Sullivan', 'Text': \"This saltwater taffy had great flavors and was very soft and chewy.  Each candy was individually wrapped well.  None of the candies were stuck together, which did happen in the expensive version, Fralinger's.  Would highly recommend this candy!  I served it at a beach-themed party and everyone loved it!\", 'Id': '7', 'ProductId': 'B006K2ZZ7K', 'Time': '1340150400'}, {'HelpfulnessDenominator': '0', 'Summary': 'Wonderful, tasty taffy', 'Score': '5', 'HelpfulnessNumerator': '0', 'UserId': 'A3JRGQVEQN31IQ', 'ProfileName': 'Pamela G. Williams', 'Text': 'This taffy is so good.  It is very soft and chewy.  The flavors are amazing.  I would definitely recommend you buying it.  Very satisfying!!', 'Id': '8', 'ProductId': 'B006K2ZZ7K', 'Time': '1336003200'}, {'HelpfulnessDenominator': '1', 'Summary': 'Yay Barley', 'Score': '5', 'HelpfulnessNumerator': '1', 'UserId': 'A1MZYO9TZK0BBI', 'ProfileName': 'R. James', 'Text': \"Right now I'm mostly just sprouting this so my cats can eat the grass. They love it. I rotate it around with Wheatgrass and Rye too\", 'Id': '9', 'ProductId': 'B000E7L2R4', 'Time': '1322006400'}]\n"
     ]
    }
   ],
   "source": [
    "print(data)"
   ]
  },
  {
   "cell_type": "code",
   "execution_count": null,
   "metadata": {},
   "outputs": [],
   "source": []
  }
 ],
 "metadata": {
  "kernelspec": {
   "display_name": "Python 3",
   "language": "python",
   "name": "python3"
  },
  "language_info": {
   "codemirror_mode": {
    "name": "ipython",
    "version": 3
   },
   "file_extension": ".py",
   "mimetype": "text/x-python",
   "name": "python",
   "nbconvert_exporter": "python",
   "pygments_lexer": "ipython3",
   "version": "3.5.2"
  }
 },
 "nbformat": 4,
 "nbformat_minor": 2
}
