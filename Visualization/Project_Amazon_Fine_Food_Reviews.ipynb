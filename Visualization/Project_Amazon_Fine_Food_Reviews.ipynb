{
 "cells": [
  {
   "cell_type": "code",
   "execution_count": 1,
   "metadata": {},
   "outputs": [
    {
     "name": "stderr",
     "output_type": "stream",
     "text": [
      "/Library/Frameworks/Python.framework/Versions/3.6/lib/python3.6/site-packages/sklearn/cross_validation.py:41: DeprecationWarning: This module was deprecated in version 0.18 in favor of the model_selection module into which all the refactored classes and functions are moved. Also note that the interface of the new CV iterators are different from that of this module. This module will be removed in 0.20.\n",
      "  \"This module will be removed in 0.20.\", DeprecationWarning)\n"
     ]
    }
   ],
   "source": [
    "%matplotlib inline\n",
    "\n",
    "import sqlite3\n",
    "import pandas as pd\n",
    "import numpy as np\n",
    "import nltk\n",
    "import string\n",
    "import matplotlib.pyplot as plt\n",
    "import numpy as np\n",
    "import scipy.sparse as sparse\n",
    "\n",
    "from sklearn.feature_extraction.text import TfidfTransformer\n",
    "from sklearn.feature_extraction.text import CountVectorizer\n",
    "from sklearn.cross_validation import train_test_split\n",
    "from sklearn.metrics import confusion_matrix\n",
    "from sklearn import metrics\n",
    "from nltk.corpus import stopwords\n",
    "from sklearn.cross_validation import StratifiedKFold\n",
    "from sklearn.naive_bayes import BernoulliNB\n",
    "from sklearn import linear_model\n",
    "from sklearn.tree import DecisionTreeClassifier\n",
    "from sklearn.decomposition import TruncatedSVD\n",
    "from sklearn.metrics import recall_score"
   ]
  },
  {
   "cell_type": "markdown",
   "metadata": {},
   "source": [
    "## 1. Reading the data from the Sqlite file"
   ]
  },
  {
   "cell_type": "code",
   "execution_count": 222,
   "metadata": {
    "collapsed": true
   },
   "outputs": [],
   "source": [
    "## download dataset from this location : https://www.kaggle.com/snap/amazon-fine-food-reviews."
   ]
  },
  {
   "cell_type": "code",
   "execution_count": 17,
   "metadata": {},
   "outputs": [],
   "source": [
    "sqlobject = sqlite3.connect('./data/database.sqlite')\n",
    "\n",
    "reviews = pd.read_sql_query(\"\"\"SELECT Score, Summary FROM Reviews\"\"\", sqlobject)\n"
   ]
  },
  {
   "cell_type": "code",
   "execution_count": 18,
   "metadata": {
    "collapsed": true
   },
   "outputs": [],
   "source": [
    "original = reviews.copy()"
   ]
  },
  {
   "cell_type": "code",
   "execution_count": 19,
   "metadata": {
    "collapsed": true
   },
   "outputs": [],
   "source": [
    "reviews = original.copy()"
   ]
  },
  {
   "cell_type": "code",
   "execution_count": 20,
   "metadata": {},
   "outputs": [
    {
     "name": "stdout",
     "output_type": "stream",
     "text": [
      "(568454, 2)\n"
     ]
    }
   ],
   "source": [
    "print(reviews.shape)"
   ]
  },
  {
   "cell_type": "code",
   "execution_count": 21,
   "metadata": {},
   "outputs": [],
   "source": [
    "reviews = reviews.dropna()"
   ]
  },
  {
   "cell_type": "code",
   "execution_count": 22,
   "metadata": {},
   "outputs": [
    {
     "name": "stdout",
     "output_type": "stream",
     "text": [
      "(568454, 2)\n"
     ]
    }
   ],
   "source": [
    "print (reviews.shape)"
   ]
  },
  {
   "cell_type": "code",
   "execution_count": 23,
   "metadata": {
    "collapsed": true
   },
   "outputs": [],
   "source": [
    "## this is how loaded data looks like"
   ]
  },
  {
   "cell_type": "code",
   "execution_count": 24,
   "metadata": {},
   "outputs": [
    {
     "name": "stdout",
     "output_type": "stream",
     "text": [
      "    Score                                            Summary\n",
      "0       5                              Good Quality Dog Food\n",
      "1       1                                  Not as Advertised\n",
      "2       4                              \"Delight\" says it all\n",
      "3       2                                     Cough Medicine\n",
      "4       5                                        Great taffy\n",
      "5       4                                         Nice Taffy\n",
      "6       5      Great!  Just as good as the expensive brands!\n",
      "7       5                             Wonderful, tasty taffy\n",
      "8       5                                         Yay Barley\n",
      "9       5                                   Healthy Dog Food\n",
      "10      5                    The Best Hot Sauce in the World\n",
      "11      5  My cats LOVE this \"diet\" food better than thei...\n",
      "12      1               My Cats Are Not Fans of the New Food\n",
      "13      4                                  fresh and greasy!\n",
      "14      5                       Strawberry Twizzlers - Yummy\n",
      "15      5           Lots of twizzlers, just what you expect.\n",
      "16      2                                         poor taste\n",
      "17      5                                           Love it!\n",
      "18      5                                 GREAT SWEET CANDY!\n",
      "19      5                            Home delivered twizlers\n",
      "20      5                                       Always fresh\n",
      "21      5                                          TWIZZLERS\n",
      "22      5                                 Delicious product!\n",
      "23      5                                          Twizzlers\n",
      "24      5                      Please sell these in Mexico!!\n"
     ]
    }
   ],
   "source": [
    "print (reviews.head(25))"
   ]
  },
  {
   "cell_type": "markdown",
   "metadata": {},
   "source": [
    "### We can see above that there are no missing values"
   ]
  },
  {
   "cell_type": "markdown",
   "metadata": {},
   "source": [
    "## 2. Encoding score to Positive or negative based on value of each sample"
   ]
  },
  {
   "cell_type": "code",
   "execution_count": 25,
   "metadata": {},
   "outputs": [],
   "source": [
    "scores = reviews['Score']\n",
    "#reviews['Score'] = reviews['Score'].apply(lambda x : 'pos' if x > 3 else 'neg')"
   ]
  },
  {
   "cell_type": "code",
   "execution_count": 26,
   "metadata": {},
   "outputs": [
    {
     "data": {
      "text/plain": [
       "4.1831986405232433"
      ]
     },
     "execution_count": 26,
     "metadata": {},
     "output_type": "execute_result"
    }
   ],
   "source": [
    "scores.mean()"
   ]
  },
  {
   "cell_type": "markdown",
   "metadata": {},
   "source": [
    "## 3. Distribution of labels in the dataset"
   ]
  },
  {
   "cell_type": "code",
   "execution_count": 27,
   "metadata": {},
   "outputs": [
    {
     "data": {
      "text/plain": [
       "Score\n",
       "1     52268\n",
       "2     29769\n",
       "3     42640\n",
       "4     80655\n",
       "5    363122\n",
       "Name: Summary, dtype: int64"
      ]
     },
     "execution_count": 27,
     "metadata": {},
     "output_type": "execute_result"
    }
   ],
   "source": [
    "reviews.groupby('Score')['Summary'].count()"
   ]
  },
  {
   "cell_type": "code",
   "execution_count": 28,
   "metadata": {},
   "outputs": [
    {
     "data": {
      "text/plain": [
       "<matplotlib.axes._subplots.AxesSubplot at 0x12355a390>"
      ]
     },
     "execution_count": 28,
     "metadata": {},
     "output_type": "execute_result"
    },
    {
     "data": {
      "image/png": "[encoded data removed]",
      "text/plain": [
       "<matplotlib.figure.Figure at 0x11d7b2be0>"
      ]
     },
     "metadata": {},
     "output_type": "display_data"
    }
   ],
   "source": [
    "reviews.groupby('Score')['Summary'].count().plot(kind='bar',color=['r','g'],title='Label Distribution',figsize=(10,6))"
   ]
  },
  {
   "cell_type": "code",
   "execution_count": 30,
   "metadata": {},
   "outputs": [
    {
     "name": "stdout",
     "output_type": "stream",
     "text": [
      "Percentage of 1 star reviews 9.19 %\n",
      "Percentage of 2 star reviews 5.24 %\n",
      "Percentage of 3 star reviews 7.50 %\n",
      "Percentage of 4 star reviews 14.19 %\n",
      "Percentage of 5 star reviews 63.88 %\n"
     ]
    }
   ],
   "source": [
    "print ('Percentage of 1 star reviews %.2f %%' % ((reviews.groupby('Score')['Summary'].count()[1])*100.0/len(reviews)))\n",
    "print ('Percentage of 2 star reviews %.2f %%' % ((reviews.groupby('Score')['Summary'].count()[2])*100.0/len(reviews)))\n",
    "print ('Percentage of 3 star reviews %.2f %%' % ((reviews.groupby('Score')['Summary'].count()[3])*100.0/len(reviews)))\n",
    "print ('Percentage of 4 star reviews %.2f %%' % ((reviews.groupby('Score')['Summary'].count()[4])*100.0/len(reviews)))\n",
    "print ('Percentage of 5 star reviews %.2f %%' % ((reviews.groupby('Score')['Summary'].count()[5])*100.0/len(reviews)))"
   ]
  },
  {
   "cell_type": "markdown",
   "metadata": {},
   "source": [
    "### As we can see the data is pretty skewed. We are able to already decide that we must use Stratified Split for evaluation"
   ]
  },
  {
   "cell_type": "markdown",
   "metadata": {},
   "source": [
    "## 4. Splitting the dataset based on labels"
   ]
  },
  {
   "cell_type": "code",
   "execution_count": 31,
   "metadata": {
    "collapsed": true
   },
   "outputs": [],
   "source": [
    "def splitstars(Summaries):\n",
    "    star1 = reviews.loc[Summaries['Score']==1]\n",
    "    star2 = reviews.loc[Summaries['Score']==2]\n",
    "    star3 = reviews.loc[Summaries['Score']==3]\n",
    "    star4 = reviews.loc[Summaries['Score']==4]\n",
    "    star5 = reviews.loc[Summaries['Score']==5]\n",
    "    return [star1,star2,star3,star4,star5]"
   ]
  },
  {
   "cell_type": "code",
   "execution_count": 32,
   "metadata": {},
   "outputs": [],
   "source": [
    "[star1,star2,star3,star4,star5] = splitstars(reviews)"
   ]
  },
  {
   "cell_type": "code",
   "execution_count": 34,
   "metadata": {},
   "outputs": [
    {
     "name": "stdout",
     "output_type": "stream",
     "text": [
      "        Score                                            Summary\n",
      "1           1                                  Not as Advertised\n",
      "12          1               My Cats Are Not Fans of the New Food\n",
      "26          1                                    Nasty No flavor\n",
      "50          1                                      Don't like it\n",
      "62          1                                     stale product.\n",
      "73          1               Warning!  WARNING!  -ALCOHOL SUGARS!\n",
      "75          1                                      No Tea Flavor\n",
      "99          1                                                Bad\n",
      "153         1                                      Rip off Price\n",
      "164         1                          Tasteless but low calorie\n",
      "167         1                                   Very Low quality\n",
      "168         1                                   Not Banana Runts\n",
      "208         1      These just don't do it for me as breath mints\n",
      "213         1                CHANGED FORMULA MAKES CATS SICK!!!!\n",
      "216         1                            Price cannot be correct\n",
      "229         1                                           Not Good\n",
      "233         1                             Furniture Polish Taste\n",
      "252         1                                        Sad outcome\n",
      "254         1                             Don't Waste Your Money\n",
      "257         1                               Reeks like chemicals\n",
      "267         1                                            Lie!!!!\n",
      "282         1              Over priced chips and lack rice taste\n",
      "305         1                     So awful I can barely describe\n",
      "311         1                                  Very Dissapointed\n",
      "312         1                               what quantity is it!\n",
      "324         1                                      Never Arrived\n",
      "331         1                                              AWFUL\n",
      "334         1                           Does not taste very good\n",
      "335         1                                              No no\n",
      "361         1                                             Bitter\n",
      "...       ...                                                ...\n",
      "568146      1                           A non-competitive price!\n",
      "568156      1                                         suspicious\n",
      "568205      1                            Fish in a Plastic Pack?\n",
      "568249      1  You'll need 3 packs to equal one pack of Truvi...\n",
      "568256      1    Don't buy Stevia in the Raw if you are diabetic\n",
      "568260      1                             MALTODEXTRINE, BEWARE!\n",
      "568263      1                               this stuff is nasty!\n",
      "568268      1                                          watch out\n",
      "568269      1                                     Horrible Taste\n",
      "568270      1                      ZERO STARS - absolute garbage\n",
      "568271      1                             bitter! yak; not sweet\n",
      "568272      1       This is Not PURE Stevia but 90% FILLER added\n",
      "568273      1                 Disgusting is an Understatement!!!\n",
      "568274      1                       Chemical Garbage!!! AVOID!!!\n",
      "568283      1                               nestle chocolate bar\n",
      "568294      1  NOT THE NESTLES CHOCOLATE I KNEW AS A KID-- DO...\n",
      "568295      1  Nestle's CHANGED their formula, thus taste!  T...\n",
      "568300      1                                   Made my dog sick\n",
      "568313      1                  Great taste, bad experience later\n",
      "568324      1                  Fiber-None Bars  Don't Be Fooled!\n",
      "568339      1                                      caveat emptor\n",
      "568344      1        Best before end 2005, we are in 2012 !!!!!!\n",
      "568354      1                          My Dog HATED these treats\n",
      "568359      1                                               UGH!\n",
      "568385      1            Rip-off: Be careful before u buy!!!!!!!\n",
      "568402      1                               alternative sweetner\n",
      "568426      1                                            rip off\n",
      "568431      1                                       Mostly water\n",
      "568432      1                                            No Good\n",
      "568433      1                                   Tastes horrible!\n",
      "\n",
      "[52268 rows x 2 columns]\n"
     ]
    }
   ],
   "source": [
    "print(star1)"
   ]
  },
  {
   "cell_type": "markdown",
   "metadata": {},
   "source": [
    "## 5. Preprocessing"
   ]
  },
  {
   "cell_type": "markdown",
   "metadata": {},
   "source": [
    "### Using lemmatization as it was giving better results than stemming. Other steps include removing punctuation amd upper case to lower case conversion."
   ]
  },
  {
   "cell_type": "code",
   "execution_count": 35,
   "metadata": {},
   "outputs": [],
   "source": [
    "#preprocessing steps\n",
    "\n",
    "#stemmer = PorterStemmer()\n",
    "lemmatizer = nltk.WordNetLemmatizer()\n",
    "stop = stopwords.words('english')\n",
    "translation = str.maketrans(string.punctuation,' '*len(string.punctuation))\n",
    "\n",
    "def preprocessing(line):\n",
    "    tokens=[]\n",
    "    line = line.translate(translation)\n",
    "    line = nltk.word_tokenize(line.lower())\n",
    "    for t in line:\n",
    "        #if(t not in stop):\n",
    "            #stemmed = stemmer.stem(t)\n",
    "        stemmed = lemmatizer.lemmatize(t)\n",
    "        tokens.append(stemmed)\n",
    "    return ' '.join(tokens)"
   ]
  },
  {
   "cell_type": "code",
   "execution_count": 37,
   "metadata": {},
   "outputs": [],
   "source": [
    "star1_data = []\n",
    "star2_data = []\n",
    "star3_data = []\n",
    "star4_data = []\n",
    "star5_data = []\n",
    "\n",
    "for p in star1['Summary']:\n",
    "    star1_data.append(preprocessing(p))\n",
    "for p in star2['Summary']:\n",
    "    star2_data.append(preprocessing(p))\n",
    "for p in star3['Summary']:\n",
    "    star3_data.append(preprocessing(p))\n",
    "for p in star4['Summary']:\n",
    "    star4_data.append(preprocessing(p))\n",
    "for p in star5['Summary']:\n",
    "    star5_data.append(preprocessing(p))    "
   ]
  },
  {
   "cell_type": "code",
   "execution_count": 38,
   "metadata": {},
   "outputs": [],
   "source": [
    "data = star1_data + star2_data + star3_data + star4_data + star5_data\n",
    "labels = np.concatenate(( star1['Score'].values, star2['Score'].values, star3['Score'].values, star4['Score'].values, star5['Score'].values))"
   ]
  },
  {
   "cell_type": "code",
   "execution_count": 40,
   "metadata": {},
   "outputs": [
    {
     "name": "stdout",
     "output_type": "stream",
     "text": [
      "not a advertised\n",
      "1\n"
     ]
    }
   ],
   "source": [
    "print(data[0])\n",
    "print(labels[0])"
   ]
  },
  {
   "cell_type": "markdown",
   "metadata": {},
   "source": [
    "## 6. Splitting the data into train and test using a stratified strategy"
   ]
  },
  {
   "cell_type": "code",
   "execution_count": 41,
   "metadata": {},
   "outputs": [],
   "source": [
    "[Data_train,Data_test,Train_labels,Test_labels] = train_test_split(data,labels , test_size=0.25, random_state=20160121,stratify=labels)"
   ]
  },
  {
   "cell_type": "code",
   "execution_count": 42,
   "metadata": {
    "collapsed": true
   },
   "outputs": [],
   "source": [
    "## tokenizing the training data to find frequency of words"
   ]
  },
  {
   "cell_type": "code",
   "execution_count": 43,
   "metadata": {},
   "outputs": [],
   "source": [
    "t = []\n",
    "for line in Data_train:\n",
    "    l = nltk.word_tokenize(line)\n",
    "    for w in l:\n",
    "        t.append(w)"
   ]
  },
  {
   "cell_type": "code",
   "execution_count": 44,
   "metadata": {},
   "outputs": [
    {
     "name": "stdout",
     "output_type": "stream",
     "text": [
      "27050\n"
     ]
    }
   ],
   "source": [
    "word_features = nltk.FreqDist(t)\n",
    "print (len(word_features))"
   ]
  },
  {
   "cell_type": "markdown",
   "metadata": {},
   "source": [
    "### We can see that the number of unique words in the dataset is pretty huge. When doing text classification the vocabulary of the data set becomes the featureset.\n",
    "### We would want to reduce the size of this feature set. This can be done in severals ways.\n",
    "### One of them is feature reduction using PCA."
   ]
  },
  {
   "cell_type": "markdown",
   "metadata": {},
   "source": [
    "## 7. Feature Reduction"
   ]
  },
  {
   "cell_type": "markdown",
   "metadata": {},
   "source": [
    "### a. Using PCA"
   ]
  },
  {
   "cell_type": "code",
   "execution_count": 45,
   "metadata": {
    "collapsed": true
   },
   "outputs": [],
   "source": [
    "vec_all = CountVectorizer()\n",
    "ctr_features_all = vec_all.fit_transform(Data_train)"
   ]
  },
  {
   "cell_type": "code",
   "execution_count": 46,
   "metadata": {},
   "outputs": [],
   "source": [
    "tf_vec_all = TfidfTransformer()\n",
    "tr_features_all = tf_vec_all.fit_transform(ctr_features_all)"
   ]
  },
  {
   "cell_type": "code",
   "execution_count": 47,
   "metadata": {},
   "outputs": [],
   "source": [
    "cte_features_all = vec_all.transform(Data_test)\n",
    "te_features_all = tf_vec_all.transform(cte_features_all)"
   ]
  },
  {
   "cell_type": "markdown",
   "metadata": {},
   "source": [
    "#### Pca doesn't apply to sparse matrices so we use a different version of PCA called Truncated SVD"
   ]
  },
  {
   "cell_type": "code",
   "execution_count": 48,
   "metadata": {},
   "outputs": [],
   "source": [
    "svd = TruncatedSVD(n_components=200)\n",
    "tr_features_truncated = svd.fit_transform(tr_features_all)"
   ]
  },
  {
   "cell_type": "code",
   "execution_count": 49,
   "metadata": {},
   "outputs": [],
   "source": [
    "te_features_truncated = svd.transform(te_features_all)"
   ]
  },
  {
   "cell_type": "code",
   "execution_count": 50,
   "metadata": {
    "collapsed": true
   },
   "outputs": [],
   "source": [
    "svd = TruncatedSVD(n_components=200)\n",
    "ctr_features_truncated = svd.fit_transform(ctr_features_all)\n",
    "cte_features_truncated = svd.transform(cte_features_all)"
   ]
  },
  {
   "cell_type": "markdown",
   "metadata": {},
   "source": [
    "### Running 4 classification algorithms : Naive Bayes, Logistic Regression, Decision Trees and Perceptron"
   ]
  },
  {
   "cell_type": "code",
   "execution_count": 51,
   "metadata": {},
   "outputs": [],
   "source": [
    "models = {'BernoulliNB':BernoulliNB(binarize=0.5)\n",
    "          ,'Logistic' : linear_model.LogisticRegression(C=1e5),'Decision Tree' : DecisionTreeClassifier(random_state=20160121, criterion='entropy'),\n",
    "                                                                                                        'Perceptron': linear_model.Perceptron(n_iter=1000)}"
   ]
  },
  {
   "cell_type": "code",
   "execution_count": 52,
   "metadata": {},
   "outputs": [
    {
     "name": "stderr",
     "output_type": "stream",
     "text": [
      "/Library/Frameworks/Python.framework/Versions/3.6/lib/python3.6/site-packages/sklearn/linear_model/stochastic_gradient.py:117: DeprecationWarning: n_iter parameter is deprecated in 0.19 and will be removed in 0.21. Use max_iter and tol instead.\n",
      "  DeprecationWarning)\n"
     ]
    },
    {
     "name": "stdout",
     "output_type": "stream",
     "text": [
      "           Model  TF-IDF Accuracy\n",
      "0    BernoulliNB         0.648416\n",
      "1       Logistic         0.682712\n",
      "2  Decision Tree         0.684697\n",
      "3     Perceptron         0.626954\n"
     ]
    }
   ],
   "source": [
    "results_svd = pd.DataFrame()\n",
    "\n",
    "foldnum = 0\n",
    "tfprediction = {}\n",
    "cprediction = {}\n",
    "for name,model in models.items():\n",
    "        model.fit(tr_features_truncated, Train_labels)\n",
    "        tfprediction[name] = model.predict(te_features_truncated)\n",
    "        tfaccuracy = metrics.accuracy_score(tfprediction[name],Test_labels)\n",
    "        \n",
    "        #model.fit(ctr_features_truncated,Train_labels)\n",
    "        #cprediction[name] = model.predict(cte_features_truncated)\n",
    "        #caccuracy = metrics.accuracy_score(cprediction[name],Test_labels)\n",
    "\n",
    "        results_svd.loc[foldnum,'Model']=name\n",
    "        results_svd.loc[foldnum,'TF-IDF Accuracy']=tfaccuracy\n",
    "        #results_svd.loc[foldnum,'Count Accuracy']=caccuracy\n",
    "        foldnum = foldnum+1\n",
    "print (results_svd)\n"
   ]
  },
  {
   "cell_type": "code",
   "execution_count": 53,
   "metadata": {},
   "outputs": [
    {
     "name": "stdout",
     "output_type": "stream",
     "text": [
      "Classification report for  BernoulliNB\n",
      "             precision    recall  f1-score   support\n",
      "\n",
      "          1       0.77      0.06      0.11     13067\n",
      "          2       0.38      0.03      0.06      7442\n",
      "          3       0.71      0.04      0.07     10660\n",
      "          4       0.34      0.00      0.00     20164\n",
      "          5       0.65      1.00      0.79     90781\n",
      "\n",
      "avg / total       0.61      0.65      0.52    142114\n",
      "\n",
      "\n",
      "\n",
      "Classification report for  Logistic\n",
      "             precision    recall  f1-score   support\n",
      "\n",
      "          1       0.54      0.32      0.40     13067\n",
      "          2       0.38      0.06      0.11      7442\n",
      "          3       0.44      0.17      0.24     10660\n",
      "          4       0.42      0.09      0.15     20164\n",
      "          5       0.71      0.98      0.82     90781\n",
      "\n",
      "avg / total       0.62      0.68      0.61    142114\n",
      "\n",
      "\n",
      "\n",
      "Classification report for  Decision Tree\n",
      "             precision    recall  f1-score   support\n",
      "\n",
      "          1       0.54      0.56      0.55     13067\n",
      "          2       0.37      0.37      0.37      7442\n",
      "          3       0.42      0.43      0.43     10660\n",
      "          4       0.40      0.37      0.38     20164\n",
      "          5       0.82      0.83      0.83     90781\n",
      "\n",
      "avg / total       0.68      0.68      0.68    142114\n",
      "\n",
      "\n",
      "\n",
      "Classification report for  Perceptron\n",
      "             precision    recall  f1-score   support\n",
      "\n",
      "          1       0.28      0.62      0.39     13067\n",
      "          2       0.27      0.12      0.16      7442\n",
      "          3       0.38      0.15      0.21     10660\n",
      "          4       0.38      0.12      0.18     20164\n",
      "          5       0.76      0.84      0.80     90781\n",
      "\n",
      "avg / total       0.61      0.63      0.60    142114\n",
      "\n",
      "\n",
      "\n"
     ]
    }
   ],
   "source": [
    "for name,model in models.items():\n",
    "    print (\"Classification report for \",name)\n",
    "    print(metrics.classification_report(Test_labels, tfprediction[name]))\n",
    "    print(\"\\n\")"
   ]
  },
  {
   "cell_type": "code",
   "execution_count": 56,
   "metadata": {},
   "outputs": [
    {
     "name": "stdout",
     "output_type": "stream",
     "text": [
      "           Model  TF-IDF Accuracy\n",
      "0    BernoulliNB         0.648416\n",
      "1       Logistic         0.682712\n",
      "2  Decision Tree         0.684697\n",
      "3     Perceptron         0.626954\n"
     ]
    }
   ],
   "source": [
    "print(results_svd)"
   ]
  },
  {
   "cell_type": "code",
   "execution_count": 58,
   "metadata": {},
   "outputs": [
    {
     "data": {
      "text/plain": [
       "<matplotlib.axes._subplots.AxesSubplot at 0x12e3ca908>"
      ]
     },
     "execution_count": 58,
     "metadata": {},
     "output_type": "execute_result"
    },
    {
     "data": {
      "image/png": "[encoded data removed]",
      "text/plain": [
       "<matplotlib.figure.Figure at 0x12e3cf048>"
      ]
     },
     "metadata": {},
     "output_type": "display_data"
    }
   ],
   "source": [
    "results_svd.plot(kind='bar',color=['r','g','b','y'],title='Model Performance',figsize=(10,6),x='Model', y='TF-IDF Accuracy', legend=False)"
   ]
  },
  {
   "cell_type": "markdown",
   "metadata": {},
   "source": [
    "## 9. Finally we can try by running it on our entire featureset. One can guess it will take a lot of time with Decision Tree Classifier."
   ]
  },
  {
   "cell_type": "markdown",
   "metadata": {},
   "source": [
    "### We can make use of group of words to get better results. Sometimes sequence of words might have different effect on the prediction. Sequences like \"not good\" or \"not bad\" affect the prediction in way different than when used individually."
   ]
  },
  {
   "cell_type": "markdown",
   "metadata": {},
   "source": [
    "### a. Unigram"
   ]
  },
  {
   "cell_type": "code",
   "execution_count": 59,
   "metadata": {
    "collapsed": true
   },
   "outputs": [],
   "source": [
    "### using countvectorizer to generate count vectors for the training data.\n",
    "vec_all = CountVectorizer()\n",
    "ctr_features_all = vec_all.fit_transform(Data_train)"
   ]
  },
  {
   "cell_type": "code",
   "execution_count": 60,
   "metadata": {
    "collapsed": true
   },
   "outputs": [],
   "source": [
    "tf_vec_all = TfidfTransformer()\n",
    "tr_features_all = tf_vec_all.fit_transform(ctr_features_all)"
   ]
  },
  {
   "cell_type": "code",
   "execution_count": 61,
   "metadata": {
    "collapsed": true
   },
   "outputs": [],
   "source": [
    "cte_features_all = vec_all.transform(Data_test)\n",
    "te_features_all = tf_vec_all.transform(cte_features_all)"
   ]
  },
  {
   "cell_type": "code",
   "execution_count": 62,
   "metadata": {
    "collapsed": true
   },
   "outputs": [],
   "source": [
    "models = {'BernoulliNB':BernoulliNB()\n",
    "          ,'Logistic' : linear_model.LogisticRegression(C=1e5),'Perceptron': linear_model.Perceptron(n_iter=1000)}"
   ]
  },
  {
   "cell_type": "code",
   "execution_count": 63,
   "metadata": {},
   "outputs": [
    {
     "name": "stderr",
     "output_type": "stream",
     "text": [
      "/Library/Frameworks/Python.framework/Versions/3.6/lib/python3.6/site-packages/sklearn/linear_model/stochastic_gradient.py:117: DeprecationWarning: n_iter parameter is deprecated in 0.19 and will be removed in 0.21. Use max_iter and tol instead.\n",
      "  DeprecationWarning)\n"
     ]
    },
    {
     "name": "stdout",
     "output_type": "stream",
     "text": [
      "   TF-IDF Accuracy        Model\n",
      "0         0.709163  BernoulliNB\n",
      "1         0.727177     Logistic\n",
      "2         0.629945   Perceptron\n"
     ]
    }
   ],
   "source": [
    "results_all_uni = pd.DataFrame()\n",
    "\n",
    "#stratified = StratifiedKFold(labels, n_folds=5,random_state=20160121, shuffle=True)\n",
    "\n",
    "foldnum = 0\n",
    "tfprediction = {}\n",
    "cprediction = {}\n",
    "for name,model in models.items():\n",
    "        \n",
    "        model.fit(tr_features_all, Train_labels)\n",
    "        tfprediction[name] = model.predict(te_features_all)\n",
    "        tfaccuracy = metrics.accuracy_score(tfprediction[name],Test_labels)\n",
    "        \n",
    "        #model.fit(ctr_features_all,Train_labels)\n",
    "        #cprediction[name] = model.predict(cte_features_all)\n",
    "        #caccuracy = metrics.accuracy_score(cprediction[name],Test_labels)\n",
    "        \n",
    "        results_all_uni.loc[foldnum,'TF-IDF Accuracy']=tfaccuracy\n",
    "        #results_all_uni.loc[foldnum,'Count Accuracy']=caccuracy\n",
    "        results_all_uni.loc[foldnum,'Model']=name\n",
    "        foldnum = foldnum+1\n",
    "print (results_all_uni)\n"
   ]
  },
  {
   "cell_type": "code",
   "execution_count": 64,
   "metadata": {},
   "outputs": [
    {
     "name": "stdout",
     "output_type": "stream",
     "text": [
      "Classification report for  BernoulliNB\n",
      "             precision    recall  f1-score   support\n",
      "\n",
      "          1       0.58      0.61      0.60     13067\n",
      "          2       0.39      0.13      0.20      7442\n",
      "          3       0.42      0.30      0.35     10660\n",
      "          4       0.40      0.21      0.27     20164\n",
      "          5       0.78      0.93      0.85     90781\n",
      "\n",
      "avg / total       0.66      0.71      0.67    142114\n",
      "\n",
      "Classification report for  Logistic\n",
      "             precision    recall  f1-score   support\n",
      "\n",
      "          1       0.62      0.63      0.62     13067\n",
      "          2       0.43      0.24      0.31      7442\n",
      "          3       0.47      0.31      0.37     10660\n",
      "          4       0.46      0.20      0.27     20164\n",
      "          5       0.79      0.95      0.86     90781\n",
      "\n",
      "avg / total       0.68      0.73      0.69    142114\n",
      "\n",
      "Classification report for  Perceptron\n",
      "             precision    recall  f1-score   support\n",
      "\n",
      "          1       0.50      0.49      0.50     13067\n",
      "          2       0.26      0.25      0.26      7442\n",
      "          3       0.30      0.31      0.31     10660\n",
      "          4       0.27      0.29      0.28     20164\n",
      "          5       0.80      0.79      0.80     90781\n",
      "\n",
      "avg / total       0.63      0.63      0.63    142114\n",
      "\n"
     ]
    }
   ],
   "source": [
    "for name,model in models.items():\n",
    "    print (\"Classification report for \",name)\n",
    "    print(metrics.classification_report(Test_labels, tfprediction[name]))"
   ]
  },
  {
   "cell_type": "code",
   "execution_count": 66,
   "metadata": {},
   "outputs": [
    {
     "data": {
      "text/plain": [
       "<matplotlib.axes._subplots.AxesSubplot at 0x12a1e7cf8>"
      ]
     },
     "execution_count": 66,
     "metadata": {},
     "output_type": "execute_result"
    },
    {
     "data": {
      "image/png": "[encoded data removed]",
      "text/plain": [
       "<matplotlib.figure.Figure at 0x12a27a588>"
      ]
     },
     "metadata": {},
     "output_type": "display_data"
    }
   ],
   "source": [
    "results_all_uni.plot(kind='bar',color=['r','g','b'],title='Model Performance',figsize=(10,6),x='Model', y='TF-IDF Accuracy',legend=False)"
   ]
  },
  {
   "cell_type": "markdown",
   "metadata": {},
   "source": [
    "### b. Using Bigrams"
   ]
  },
  {
   "cell_type": "code",
   "execution_count": 67,
   "metadata": {},
   "outputs": [],
   "source": [
    "## using countvectorizer to generate count vectors for the training data.\n",
    "vec_all = CountVectorizer(ngram_range=(1,2))\n",
    "ctr_features_all = vec_all.fit_transform(Data_train)"
   ]
  },
  {
   "cell_type": "code",
   "execution_count": 68,
   "metadata": {},
   "outputs": [],
   "source": [
    "tf_vec_all = TfidfTransformer()\n",
    "tr_features_all = tf_vec_all.fit_transform(ctr_features_all)"
   ]
  },
  {
   "cell_type": "code",
   "execution_count": 69,
   "metadata": {
    "collapsed": true
   },
   "outputs": [],
   "source": [
    "cte_features_all = vec_all.transform(Data_test)\n",
    "te_features_all = tf_vec_all.transform(cte_features_all)"
   ]
  },
  {
   "cell_type": "code",
   "execution_count": 70,
   "metadata": {},
   "outputs": [
    {
     "name": "stdout",
     "output_type": "stream",
     "text": [
      "(426340, 263650)\n"
     ]
    }
   ],
   "source": [
    "print ((ctr_features_all.shape))"
   ]
  },
  {
   "cell_type": "code",
   "execution_count": 71,
   "metadata": {},
   "outputs": [
    {
     "name": "stderr",
     "output_type": "stream",
     "text": [
      "/Library/Frameworks/Python.framework/Versions/3.6/lib/python3.6/site-packages/sklearn/linear_model/stochastic_gradient.py:117: DeprecationWarning: n_iter parameter is deprecated in 0.19 and will be removed in 0.21. Use max_iter and tol instead.\n",
      "  DeprecationWarning)\n"
     ]
    },
    {
     "name": "stdout",
     "output_type": "stream",
     "text": [
      "   TF-IDF Accuracy        Model\n",
      "0         0.720872  BernoulliNB\n",
      "1         0.785334     Logistic\n",
      "2         0.742291   Perceptron\n"
     ]
    }
   ],
   "source": [
    "results_all_bi = pd.DataFrame()\n",
    "\n",
    "#stratified = StratifiedKFold(labels, n_folds=5,random_state=20160121, shuffle=True)\n",
    "tfprediction = {}\n",
    "cprediction = {}\n",
    "foldnum = 0\n",
    "for name,model in models.items():\n",
    "        \n",
    "        model.fit(tr_features_all, Train_labels)\n",
    "        tfprediction[name] = model.predict(te_features_all)\n",
    "        tfaccuracy = metrics.accuracy_score(tfprediction[name],Test_labels)\n",
    "        \n",
    "        #model.fit(ctr_features_all,Train_labels)\n",
    "        #cprediction[name] = model.predict(cte_features_all)\n",
    "        #caccuracy = metrics.accuracy_score(cprediction[name],Test_labels)\n",
    "        \n",
    "        results_all_bi.loc[foldnum,'TF-IDF Accuracy']=tfaccuracy\n",
    "        #results_all_bi.loc[foldnum,'Count Accuracy']=caccuracy\n",
    "        results_all_bi.loc[foldnum,'Model']=name\n",
    "        foldnum = foldnum+1\n",
    "print (results_all_bi)\n"
   ]
  },
  {
   "cell_type": "code",
   "execution_count": 72,
   "metadata": {},
   "outputs": [
    {
     "name": "stdout",
     "output_type": "stream",
     "text": [
      "Classification report for  BernoulliNB\n",
      "             precision    recall  f1-score   support\n",
      "\n",
      "          1       0.66      0.48      0.56     13067\n",
      "          2       0.84      0.09      0.17      7442\n",
      "          3       0.61      0.25      0.36     10660\n",
      "          4       0.48      0.28      0.35     20164\n",
      "          5       0.75      0.96      0.84     90781\n",
      "\n",
      "avg / total       0.70      0.72      0.68    142114\n",
      "\n",
      "\n",
      "\n",
      "Classification report for  Logistic\n",
      "             precision    recall  f1-score   support\n",
      "\n",
      "          1       0.72      0.73      0.72     13067\n",
      "          2       0.56      0.45      0.50      7442\n",
      "          3       0.60      0.50      0.55     10660\n",
      "          4       0.60      0.39      0.47     20164\n",
      "          5       0.85      0.94      0.89     90781\n",
      "\n",
      "avg / total       0.77      0.79      0.77    142114\n",
      "\n",
      "\n",
      "\n",
      "Classification report for  Perceptron\n",
      "             precision    recall  f1-score   support\n",
      "\n",
      "          1       0.70      0.63      0.67     13067\n",
      "          2       0.44      0.46      0.45      7442\n",
      "          3       0.50      0.51      0.50     10660\n",
      "          4       0.47      0.40      0.44     20164\n",
      "          5       0.85      0.88      0.87     90781\n",
      "\n",
      "avg / total       0.73      0.74      0.74    142114\n",
      "\n",
      "\n",
      "\n"
     ]
    }
   ],
   "source": [
    "for name,model in models.items():\n",
    "    print (\"Classification report for \",name)\n",
    "    print(metrics.classification_report(Test_labels, tfprediction[name]))\n",
    "    print(\"\\n\")"
   ]
  },
  {
   "cell_type": "code",
   "execution_count": 74,
   "metadata": {},
   "outputs": [
    {
     "data": {
      "text/plain": [
       "<matplotlib.axes._subplots.AxesSubplot at 0x133066ba8>"
      ]
     },
     "execution_count": 74,
     "metadata": {},
     "output_type": "execute_result"
    },
    {
     "data": {
      "image/png": "[encoded data removed]",
      "text/plain": [
       "<matplotlib.figure.Figure at 0x130663668>"
      ]
     },
     "metadata": {},
     "output_type": "display_data"
    }
   ],
   "source": [
    "results_all_bi.plot(kind='bar',color=['r','g','b'],title='Model Performance',figsize=(10,6),x='Model', y='TF-IDF Accuracy', legend=False)"
   ]
  },
  {
   "cell_type": "markdown",
   "metadata": {},
   "source": [
    "### c. Using Trigrams"
   ]
  },
  {
   "cell_type": "code",
   "execution_count": 75,
   "metadata": {},
   "outputs": [],
   "source": [
    "## using countvectorizer to generate count vectors for the training data.\n",
    "vec_all = CountVectorizer(ngram_range=(1,3))\n",
    "ctr_features_all = vec_all.fit_transform(Data_train)"
   ]
  },
  {
   "cell_type": "code",
   "execution_count": 76,
   "metadata": {
    "collapsed": true
   },
   "outputs": [],
   "source": [
    "tf_vec_all = TfidfTransformer()\n",
    "tr_features_all = tf_vec_all.fit_transform(ctr_features_all)"
   ]
  },
  {
   "cell_type": "code",
   "execution_count": 77,
   "metadata": {
    "collapsed": true
   },
   "outputs": [],
   "source": [
    "cte_features_all = vec_all.transform(Data_test)\n",
    "te_features_all = tf_vec_all.transform(cte_features_all)"
   ]
  },
  {
   "cell_type": "code",
   "execution_count": 78,
   "metadata": {},
   "outputs": [
    {
     "name": "stderr",
     "output_type": "stream",
     "text": [
      "/Library/Frameworks/Python.framework/Versions/3.6/lib/python3.6/site-packages/sklearn/linear_model/stochastic_gradient.py:117: DeprecationWarning: n_iter parameter is deprecated in 0.19 and will be removed in 0.21. Use max_iter and tol instead.\n",
      "  DeprecationWarning)\n"
     ]
    },
    {
     "name": "stdout",
     "output_type": "stream",
     "text": [
      "   TF-IDF Accuracy        Model\n",
      "0         0.702141  BernoulliNB\n",
      "1         0.794763     Logistic\n",
      "2         0.762346   Perceptron\n"
     ]
    }
   ],
   "source": [
    "results_all_tri = pd.DataFrame()\n",
    "\n",
    "#stratified = StratifiedKFold(labels, n_folds=5,random_state=20160121, shuffle=True)\n",
    "tfprediction = {}\n",
    "cprediction = {}\n",
    "foldnum = 0\n",
    "for name,model in models.items():\n",
    "        \n",
    "        model.fit(tr_features_all, Train_labels)\n",
    "        tfprediction[name] = model.predict(te_features_all)\n",
    "        tfaccuracy = metrics.accuracy_score(tfprediction[name],Test_labels)\n",
    "        \n",
    "        #model.fit(ctr_features_all,Train_labels)\n",
    "        #cprediction[name] = model.predict(cte_features_all)\n",
    "        #caccuracy = metrics.accuracy_score(cprediction[name],Test_labels)\n",
    "        \n",
    "        results_all_tri.loc[foldnum,'TF-IDF Accuracy']=tfaccuracy\n",
    "        #results_all_tri.loc[foldnum,'Count Accuracy']=caccuracy\n",
    "        results_all_tri.loc[foldnum,'Model']=name\n",
    "        foldnum = foldnum+1\n",
    "print (results_all_tri)\n"
   ]
  },
  {
   "cell_type": "code",
   "execution_count": 82,
   "metadata": {},
   "outputs": [
    {
     "data": {
      "text/plain": [
       "<matplotlib.axes._subplots.AxesSubplot at 0x138edb7f0>"
      ]
     },
     "execution_count": 82,
     "metadata": {},
     "output_type": "execute_result"
    },
    {
     "data": {
      "image/png": "[encoded data removed]",
      "text/plain": [
       "<matplotlib.figure.Figure at 0x137426c50>"
      ]
     },
     "metadata": {},
     "output_type": "display_data"
    }
   ],
   "source": [
    "results_all_tri.plot(kind='bar',color=['r','g','b'],title='Model Performance',figsize=(10,6),x='Model', y='TF-IDF Accuracy',legend=False)"
   ]
  },
  {
   "cell_type": "code",
   "execution_count": 80,
   "metadata": {},
   "outputs": [
    {
     "name": "stdout",
     "output_type": "stream",
     "text": [
      "Classification report for  BernoulliNB\n",
      "             precision    recall  f1-score   support\n",
      "\n",
      "          1       0.74      0.29      0.41     13067\n",
      "          2       0.96      0.07      0.13      7442\n",
      "          3       0.78      0.16      0.26     10660\n",
      "          4       0.54      0.23      0.32     20164\n",
      "          5       0.71      0.98      0.82     90781\n",
      "\n",
      "avg / total       0.71      0.70      0.64    142114\n",
      "\n",
      "\n",
      "\n",
      "Classification report for  Logistic\n",
      "             precision    recall  f1-score   support\n",
      "\n",
      "          1       0.72      0.74      0.73     13067\n",
      "          2       0.58      0.45      0.51      7442\n",
      "          3       0.62      0.52      0.56     10660\n",
      "          4       0.63      0.41      0.50     20164\n",
      "          5       0.85      0.95      0.90     90781\n",
      "\n",
      "avg / total       0.78      0.79      0.78    142114\n",
      "\n",
      "\n",
      "\n",
      "Classification report for  Perceptron\n",
      "             precision    recall  f1-score   support\n",
      "\n",
      "          1       0.73      0.65      0.69     13067\n",
      "          2       0.47      0.48      0.47      7442\n",
      "          3       0.56      0.49      0.52     10660\n",
      "          4       0.52      0.43      0.47     20164\n",
      "          5       0.85      0.91      0.88     90781\n",
      "\n",
      "avg / total       0.75      0.76      0.75    142114\n",
      "\n",
      "\n",
      "\n"
     ]
    }
   ],
   "source": [
    "for name,model in models.items():\n",
    "    print (\"Classification report for \",name)\n",
    "    print(metrics.classification_report(Test_labels, tfprediction[name]))\n",
    "    print(\"\\n\")"
   ]
  },
  {
   "cell_type": "code",
   "execution_count": 225,
   "metadata": {
    "collapsed": true
   },
   "outputs": [],
   "source": [
    "## this code is taken from: https://www.kaggle.com/gpayen/d/snap/amazon-fine-food-reviews/building-a-prediction-model"
   ]
  },
  {
   "cell_type": "code",
   "execution_count": 84,
   "metadata": {},
   "outputs": [
    {
     "data": {
      "image/png": "[encoded data removed]",
      "text/plain": [
       "<matplotlib.figure.Figure at 0x13a458278>"
      ]
     },
     "metadata": {},
     "output_type": "display_data"
    },
    {
     "data": {
      "image/png": "[encoded data removed]",
      "text/plain": [
       "<matplotlib.figure.Figure at 0x1388b46d8>"
      ]
     },
     "metadata": {},
     "output_type": "display_data"
    }
   ],
   "source": [
    "def plot_confusion_matrix(cm, title='Confusion matrix', cmap=plt.cm.Blues):\n",
    "    plt.imshow(cm, interpolation='nearest', cmap=cmap)\n",
    "    plt.title(title)\n",
    "    plt.colorbar()\n",
    "    tick_marks = np.arange(len(set(labels)))\n",
    "    plt.xticks(tick_marks, [1,2,3,4,5], rotation=45)\n",
    "    plt.yticks(tick_marks, [1,2,3,4,5])\n",
    "    plt.tight_layout()\n",
    "    plt.ylabel('True label')\n",
    "    plt.xlabel('Predicted label')\n",
    "    \n",
    "# Compute confusion matrix\n",
    "cm = confusion_matrix(Test_labels, tfprediction['Logistic'])\n",
    "np.set_printoptions(precision=2)\n",
    "plt.figure()\n",
    "plot_confusion_matrix(cm)    \n",
    "\n",
    "cm_normalized = cm.astype('float') / cm.sum(axis=1)[:, np.newaxis]\n",
    "plt.figure()\n",
    "plot_confusion_matrix(cm_normalized, title='Normalized confusion matrix')\n",
    "\n",
    "plt.show()"
   ]
  },
  {
   "cell_type": "code",
   "execution_count": null,
   "metadata": {},
   "outputs": [],
   "source": [
    "## Thank you"
   ]
  }
 ],
 "metadata": {
  "kernelspec": {
   "display_name": "Python 3",
   "language": "python",
   "name": "python3"
  },
  "language_info": {
   "codemirror_mode": {
    "name": "ipython",
    "version": 3
   },
   "file_extension": ".py",
   "mimetype": "text/x-python",
   "name": "python",
   "nbconvert_exporter": "python",
   "pygments_lexer": "ipython3",
   "version": "3.6.3"
  }
 },
 "nbformat": 4,
 "nbformat_minor": 1
}
